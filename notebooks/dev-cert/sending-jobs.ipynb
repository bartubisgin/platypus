{
 "cells": [
  {
   "cell_type": "markdown",
   "metadata": {},
   "source": [
    "# Sending Jobs\n",
    "\n"
   ]
  },
  {
   "cell_type": "markdown",
   "metadata": {},
   "source": [
    "### Basics"
   ]
  },
  {
   "cell_type": "markdown",
   "metadata": {},
   "source": [
    "Here is a drag and drop code example of how to send a job with the following steps:\n",
    "First, load your account.\n",
    "Second, create a circuit, as we learned in previous chapters.\n",
    "Third, create a job for the new circuit, in addition to finding a backend to send your circuit to.\n",
    "In the next sections we'll learn more details about these actions."
   ]
  },
  {
   "cell_type": "markdown",
   "metadata": {},
   "source": [
    "<!-- ::: q-block.exercise -->\n",
    "\n",
    "### Turning a circuit into a job\n",
    "\n",
    "    q-drag-and-drop-code\n",
    "        .line from qiskit import *\n",
    "        .line provider = IBMQ.load_account()\n",
    "        .line qc = QuantumCircuit(2,2)\n",
    "        .line(group = 0) qc.h(0)\n",
    "        .line(group = 0) qc.cx(0,1)\n",
    "        .line qc.measure_all()\n",
    "        .line(group = 1) backend = provider.get_backend('ibmq_manila')\n",
    "        .line(group = 1) shots = 1024\n",
    "        .line job = execute(qc, backend, shots)\n",
    "        \n",
    "<!-- ::: -->"
   ]
  },
  {
   "cell_type": "markdown",
   "metadata": {},
   "source": [
    "### Attributes of Execute and Run"
   ]
  },
  {
   "cell_type": "markdown",
   "metadata": {},
   "source": [
    "### Backends and Simulators"
   ]
  },
  {
   "cell_type": "markdown",
   "metadata": {},
   "source": [
    "### Transpilation Passes and Optimization Levels"
   ]
  },
  {
   "cell_type": "markdown",
   "metadata": {},
   "source": [
    "### IBMQJobManager"
   ]
  },
  {
   "cell_type": "markdown",
   "metadata": {},
   "source": [
    "### Monitoring Jobs and Status"
   ]
  },
  {
   "cell_type": "code",
   "execution_count": null,
   "metadata": {},
   "outputs": [],
   "source": []
  }
 ],
 "metadata": {
  "kernelspec": {
   "display_name": "Python 3",
   "language": "python",
   "name": "python3"
  },
  "language_info": {
   "codemirror_mode": {
    "name": "ipython",
    "version": 3
   },
   "file_extension": ".py",
   "mimetype": "text/x-python",
   "name": "python",
   "nbconvert_exporter": "python",
   "pygments_lexer": "ipython3",
   "version": "3.8.3"
  }
 },
 "nbformat": 4,
 "nbformat_minor": 4
}
